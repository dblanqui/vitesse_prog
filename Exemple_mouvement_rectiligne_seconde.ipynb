{
 "cells": [
  {
   "cell_type": "code",
   "execution_count": 20,
   "metadata": {},
   "outputs": [
    {
     "data": {
      "image/png": "[encoded data removed]",
      "text/plain": [
       "<Figure size 1800x72 with 1 Axes>"
      ]
     },
     "metadata": {
      "needs_background": "light"
     },
     "output_type": "display_data"
    }
   ],
   "source": [
    "import matplotlib.pyplot as plt \n",
    "#données\n",
    "x=[0,0.063,0.252,0.567,1.008,1.575,2.268,3.087,4.032,5.103,6.3]\n",
    "y=[0,0,0,0,0,0,0,0,0,0,0]\n",
    "t=[0,0.1,0.2,0.3,0.4,0.5,0.6,0.7,0.8,0.9,1]\n",
    "\n",
    "#Calcul de v\n",
    "V=[]\n",
    "for i in range(len(x)-1) :\n",
    "    Vi=(x[i+1]-x[i])/(t[i+1]-t[i])\n",
    "    V.append(Vi)\n",
    "\n",
    "\n",
    "#préparation de la zone graphique\n",
    "plt.figure(figsize=(25,1))\n",
    "plt.title(\"Représentation du vecteur vitesse\")\n",
    "\n",
    "plt.xlim(-0.1,10) \n",
    "plt.ylim(-0.1,0.1)\n",
    "plt.grid()\n",
    "\n",
    "plt.xlabel('$x$ (m)')\n",
    "plt.ylabel('$y$ (m)')\n",
    "#tracé des points de la trajectoire\n",
    "plt.plot(x,y,'ro')\n",
    "\n",
    "\n",
    "#tracé des vecteurs vitesse avec un facteur d'échelle\n",
    "for i in range(len(V)):\n",
    "    plt.plot((x[i]+x[i+1])/2,0,'b+')\n",
    "    vecteurV=plt.quiver((x[i]+x[i+1])/2,0,V[i]/10,0,width=0.009,headwidth=10,scale=1,color='b',angles='xy', units='xy')\n",
    "    \n",
    "#Légendes\n",
    "plt.quiverkey(vecteurV, 0.2, 0.9, 0.2,label='échelle 2 m/s',coordinates='data')\n",
    "plt.show()"
   ]
  },
  {
   "cell_type": "code",
   "execution_count": null,
   "metadata": {},
   "outputs": [],
   "source": []
  }
 ],
 "metadata": {
  "kernelspec": {
   "display_name": "Python 3",
   "language": "python",
   "name": "python3"
  },
  "language_info": {
   "codemirror_mode": {
    "name": "ipython",
    "version": 3
   },
   "file_extension": ".py",
   "mimetype": "text/x-python",
   "name": "python",
   "nbconvert_exporter": "python",
   "pygments_lexer": "ipython3",
   "version": "3.7.3"
  }
 },
 "nbformat": 4,
 "nbformat_minor": 4
}
